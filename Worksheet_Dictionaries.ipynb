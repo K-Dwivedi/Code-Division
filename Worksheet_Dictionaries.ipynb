{
  "nbformat": 4,
  "nbformat_minor": 0,
  "metadata": {
    "colab": {
      "provenance": [],
      "toc_visible": true,
      "include_colab_link": true
    },
    "kernelspec": {
      "name": "python3",
      "display_name": "Python 3"
    },
    "language_info": {
      "name": "python"
    }
  },
  "cells": [
    {
      "cell_type": "markdown",
      "metadata": {
        "id": "view-in-github",
        "colab_type": "text"
      },
      "source": [
        "<a href=\"https://colab.research.google.com/github/K-Dwivedi/Code-Division--Python-worksheets/blob/main/Worksheet_Dictionaries.ipynb\" target=\"_parent\"><img src=\"https://colab.research.google.com/assets/colab-badge.svg\" alt=\"Open In Colab\"/></a>"
      ]
    },
    {
      "cell_type": "markdown",
      "metadata": {
        "id": "AiiF1h2X4PHP"
      },
      "source": [
        "# Dictionaries\n",
        "\n",
        "---\n",
        "\n",
        "A **dictionary** is a collection of dissimilar data stored together in one *record*. Each item of data has a  (or key) that describes its paired value.  \n",
        "\n",
        "Create a dictionary object by declaring the set of keys and values, e.g.:\n",
        "\n",
        "```\n",
        "   transport = {\n",
        "       \"type\":\"bus\",\n",
        "       \"numPassengers\":72,\n",
        "       \"colour\":\"blue\",\n",
        "       \"fuel\":\"diesel\"\n",
        "   }\n",
        "```\n",
        "\n",
        "To access a value in a dictionary, use its key:  \n",
        "\n",
        "```\n",
        "transport[\"type\"] = \"coach\"\n",
        "transport_type = transport[\"type\"]\n",
        "transport_colour = transport[\"colour\"]\n",
        "transport[\"fuel\"] = petrol\n",
        "```\n",
        "\n",
        "To add a new key/value pair to a dictionary, simply assign a value to a new key:  \n",
        "```\n",
        "transport[\"seats\"] = 54\n",
        "```\n",
        "\n",
        "The transport dictionary will now look like this:  \n",
        "```\n",
        "   transport = {\n",
        "       \"type\":\"bus\",\n",
        "       \"numPassengers\":72,\n",
        "       \"colour\":\"blue\",\n",
        "       \"fuel\":\"diesel\",\n",
        "       \"seats\":54\n",
        "   }\n",
        "```\n",
        "\n"
      ]
    },
    {
      "cell_type": "markdown",
      "metadata": {
        "id": "1uZ5kNWB6CqK"
      },
      "source": [
        "---\n",
        "### Exercise 1 - print dictionary\n",
        "\n",
        "Write a function which will:  \n",
        "\n",
        "*  create an empty dictionary for a person (name, age and postcode, with values \"\", 0 and \"\")\n",
        "*  ask the user for name, age and postcode and assign the values to the correct keys in the dictionary  \n",
        "*  print the dictionary\n",
        "\n",
        "Test input:  \n",
        "Jack Jones  \n",
        "16  \n",
        "AB5 3DF  \n",
        "\n",
        "Expected output:  \n",
        "```{'name':'Jack Jones', 'age':16, 'postcode':'AB5 3DF'}```"
      ]
    },
    {
      "cell_type": "code",
      "metadata": {
        "id": "Ac7VQTj94Mrc",
        "colab": {
          "base_uri": "https://localhost:8080/"
        },
        "outputId": "c785c0f7-575a-409d-a8c5-14b174097ac6"
      },
      "source": [
        "dict1={\n",
        "    'name':\"\",\n",
        "    'age': 0,\n",
        "    'postcode': \"\"\n",
        "    }\n",
        "print(dict1)\n",
        "\n",
        "dict1['name']=input(\"Enter the name: \")\n",
        "dict1['age']=int(input(\"Enter the age: \"))\n",
        "dict1['postcode']=input(\"Enter the postcode: \")\n",
        "\n",
        "print(dict1)"
      ],
      "execution_count": null,
      "outputs": [
        {
          "output_type": "stream",
          "name": "stdout",
          "text": [
            "{'name': '', 'age': 0, 'postcode': ''}\n",
            "Enter the name: Jack Jones\n",
            "Enter the age: 16\n",
            "Enter the postcode: AB5 3DF\n",
            "{'name': 'Jack Jones', 'age': 16, 'postcode': 'AB5 3DF'}\n"
          ]
        }
      ]
    },
    {
      "cell_type": "markdown",
      "metadata": {
        "id": "0OtNqNKv7WKm"
      },
      "source": [
        "---\n",
        "### Exercise 2 - create a dictionary\n",
        "\n",
        "Write a function that will create two dictionaries,without values:  \n",
        "\n",
        "1.  person (with keys firstname, surname, birthdate, postcode)  \n",
        "2.  car (with key/value pairs as follows:  make - Vauxhall, model - Corsa, engineSize - 1199, fuelType - unleaded, num_doors - 4)  \n",
        "\n",
        "*   ask the user to enter the values for the person dictionary  \n",
        "*   print, on one line, the person's name from the person dictionary and the make of the car from the car dictionary.\n",
        "\n",
        "Test input:  \n",
        "Jack  \n",
        "Jones  \n",
        "2005/02/02    \n",
        "AB5 3DF  \n",
        "\n",
        "Expected output:  \n",
        "Jack Jones Vauxhall"
      ]
    },
    {
      "cell_type": "code",
      "metadata": {
        "id": "ZyqhaBCC-GdI",
        "colab": {
          "base_uri": "https://localhost:8080/"
        },
        "outputId": "15bd48d9-2ee4-476d-aef1-4aa8da60aa9f"
      },
      "source": [
        "dic1_person={\n",
        "    'firstname': \"\",\n",
        "    'surname': \"\",\n",
        "    'birthdate':\"\",\n",
        "    'postcode': \"\"\n",
        "    }\n",
        "dic2_car={\n",
        "    'make':'vauxhall',\n",
        "    'model':'Corsa',\n",
        "    'engineSize':1199,\n",
        "    'fuelType':'unleaded',\n",
        "    'num_doors':4\n",
        "    }\n",
        "dic1_person['firstname']=input(\"Enter the first name: \")\n",
        "dic1_person['surname']=input(\"Enter the surname: \")\n",
        "dic1_person['birthdate']=input(\"Enter the birthdate: \")\n",
        "dic1_person['postcode']=input(\"Enter the postcode: \")\n",
        "\n",
        "print(dic1_person['firstname'],dic1_person['surname'],(dic2_car['make']))"
      ],
      "execution_count": null,
      "outputs": [
        {
          "output_type": "stream",
          "name": "stdout",
          "text": [
            "Enter the first name: Jack\n",
            "Enter the surname: Jones\n",
            "Enter the birthdate: 2005/02/02\n",
            "Enter the postcode: AB5 3DF\n",
            "Jack Jones vauxhall\n"
          ]
        }
      ]
    },
    {
      "cell_type": "markdown",
      "metadata": {
        "id": "gYuuOUYw-G4I"
      },
      "source": [
        "---\n",
        "### Exercise 3 - check dictionary values\n",
        "\n",
        "Write a new function which will:\n",
        "\n",
        "*  set up the same two dictionaries as in Exercise 2  \n",
        "*  ask the user to enter the details to complete the person record  \n",
        "*  calculate the person's age  \n",
        "*  if the person is under 17 then print a message to say that they can't buy a car as they are too young to drive\n",
        "*  else if the person is under 25 then print a message to say that an engine size under 1200 is recommended  \n",
        "*  ask the user to enter the make of car that the person is looking for  \n",
        "*  if the user enters the same make as that stored in the car record, then print a message to say that you have one car of that make in stock and print all the details of the car that you have the record for\n",
        "*  else (if the user enters any other car make) then print a message to say sorry that you don't have any cars of that make in stock\n",
        "*  print a message to say that the user can get more details for stockist in the <user's postcode> area if they call 01234567890\n",
        "*  print a message to say \"Thank you <user's name> for using our site\"  \n",
        "\n",
        "Test input:  \n",
        "Jack  \n",
        "Jones  \n",
        "2005/02/02  \n",
        "AB5 3DF  \n",
        "Vauxhall  \n",
        "\n",
        "Expected output:  \n",
        "You are too young to drive\n",
        "\n",
        "Test input:  \n",
        "John  \n",
        "Jones  \n",
        "2003/02/02  \n",
        "AB5 3DF  \n",
        "Vauxhall\n",
        "\n",
        "Expected output:  \n",
        "An engine size under 1200 is recommended  \n",
        "We have one Vauxhall in stock, details:  \n",
        "Make - Vauxhall    \n",
        "Model - Corsa    \n",
        "Engine size - 1199  \n",
        "Fuel type - unleaded   \n",
        "Number of doors - 4  \n",
        "You can get more details of stockists near AB5 3DF on 01234567890  \n",
        "Thank you John Jones for using our site.     \n",
        "\n",
        "Test input:  \n",
        "John  \n",
        "Jones  \n",
        "2003/02/02  \n",
        "AB5 3DF  \n",
        "Ford  \n",
        "\n",
        "Expected output:  \n",
        "An engine size under 1200 is recommended  \n",
        "Sorry, we don't have any of that make in stock  \n"
      ]
    },
    {
      "cell_type": "code",
      "metadata": {
        "id": "Wp9Il2JG_hDh",
        "outputId": "818f754f-facf-4b9e-c7c9-11df067e9851",
        "colab": {
          "base_uri": "https://localhost:8080/"
        }
      },
      "source": [
        "dic1_person={\n",
        "    'firstname': \"\",\n",
        "    'surname': \"\",\n",
        "    'birthdate':\"\",\n",
        "    'postcode': \"\"\n",
        "    }\n",
        "dic2_car={\n",
        "    'make':'vauxhall',\n",
        "    'model':'Corsa',\n",
        "    'engineSize':1199,\n",
        "    'fuelType':'unleaded',\n",
        "    'num_doors':4\n",
        "    }\n",
        "dic1_person['firstname']=input(\"Enter the first name: \")\n",
        "dic1_person['surname']=input(\"Enter the surname: \")\n",
        "dic1_person['birth_date']=(input(\"Enter the birhdate: \"))\n",
        "dic1_person['postcode']=input(\"Enter the postcode: \")\n",
        "\n",
        "\n",
        " #calculate the age\n",
        "\n",
        "def calculate_age(birth_date):\n",
        "\n",
        " import datetime\n",
        "\n",
        " birth_date = datetime.datetime.strptime(birth_date, '%Y/%m/%d').year\n",
        " today = datetime.datetime.today()\n",
        "\n",
        "\n",
        " # calculating the age by subtracting birth date (in year) from current year\n",
        " age = (today.year- birth_date)\n",
        " return age\n",
        "\n",
        "\n",
        "\n",
        "age=calculate_age(dic1_person['birth_date'])\n",
        "\n",
        "\n",
        "\n",
        "   #if the person is under 17 then print a message to say that they can't buy a car as they are too young to drive\n",
        "if age < 17:\n",
        "  print(\"Your age is\", age, \"You cann't buy a car as you are too young to drive\" )\n",
        "\n",
        "  # else if the person is under 25 then print a message to say that an engine size under 1200 is recommended\n",
        "elif age < 25:\n",
        "  print(\"Your age is\",age,\".\" \" An engine size under 1200 is recommended to you.\")\n",
        "\n",
        "\n",
        "  #ask the user to enter the make of car that the person is looking for\n",
        "make=input(\"Enter the make of car you are looking for: \")\n",
        "\n",
        "  # if the user enters the same make as that stored in the car record,\n",
        "  #then print a message to say that you have one car of that make in stock and print all the details of the car that you have the record for\n",
        "\n",
        "if make==dic2_car:\n",
        "  print(\"you have one car of that make in stock\")\n",
        "\n",
        "  print(dic2_car)           #dic2_car is the dictionary of car details\n",
        "\n",
        "  # else (if the user enters any other car make) then print a message to say sorry that you don't have any cars of that make in stock\n",
        "\n",
        "else:\n",
        "  print(\"Sorry, we don't have any cars of this make in stock.\")\n",
        "\n",
        "\n",
        "  # print a message to say that the user can get more details for stockist in the <user's postcode> area if they call 01234567890\n",
        "  print(\"For more detail about the stocklist in\",dic1_person['postcode'],\"area\",\"please call at 01234567890.\")\n",
        "\n",
        " # print a message to say \"Thank you <user's name> for using our site\"\n",
        "  print(\"Thank you\",dic1_person['firstname'],\"for using our site.\")\n",
        "\n"
      ],
      "execution_count": 10,
      "outputs": [
        {
          "output_type": "stream",
          "name": "stdout",
          "text": [
            "Enter the first name: John\n",
            "Enter the surname: Jones\n",
            "Enter the birhdate: 2003/02/02\n",
            "Enter the postcode: AB5 3DF\n",
            "Your age is 20 . An engine size under 1200 is recommended to you.\n",
            "Enter the make of car you are looking for: Ford\n",
            "Sorry, we don't have any cars of this make in stock.\n",
            "For more detail about the stocklist in AB5 3DF area please call at 01234567890.\n",
            "Thank you John for using our site.\n"
          ]
        }
      ]
    },
    {
      "cell_type": "markdown",
      "metadata": {
        "id": "I6dUiRwn7Gkg"
      },
      "source": [
        "---\n",
        "### Exercise 4 - print keys and values\n",
        "\n",
        "Two dictionaries have been created below.  You can print a list of the dictionary's keys using `dictionary_name.keys()` and the values using `dictionary_name.values()`\n",
        "\n",
        "Write a function which will accept a dictionary as a parameter and will:  \n",
        "*  print the dictionary keys as a list   \n",
        "*  print the dictionary values as a list  \n",
        "\n",
        "*Hint*:  you will need to cast the keys as a list (`list(dictionary_name.keys()`)  and do the same for the values.\n",
        "\n",
        "**Expected Output**\n",
        "\n",
        "Input: English  \n",
        "Output:\n",
        "['Andy', 'Angela']  \n",
        "[95, 53]  \n",
        "\n",
        "Input: Maths  \n",
        "Output:  \n",
        "['Andy', 'Angela']  \n",
        "[58, 72]\n",
        "\n",
        "\n",
        "\n"
      ]
    },
    {
      "cell_type": "code",
      "metadata": {
        "id": "FApOckhJEsMs",
        "colab": {
          "base_uri": "https://localhost:8080/"
        },
        "outputId": "cce37aae-738d-4d5c-e28d-2397d158ff32"
      },
      "source": [
        "def display_dictionary(scores):\n",
        "  #  add your code below this line\n",
        "  keys=list(scores.keys())\n",
        "  values=list(scores.values())\n",
        "  print(keys)\n",
        "  print(values)\n",
        "\n",
        "english_scores = {'Andy': 95, 'Angela': 53}\n",
        "maths_scores = {'Andy': 58, 'Angela': 72}\n",
        "display_dictionary(english_scores)    # to call the function of scores\n",
        "display_dictionary(maths_scores)"
      ],
      "execution_count": null,
      "outputs": [
        {
          "output_type": "stream",
          "name": "stdout",
          "text": [
            "['Andy', 'Angela']\n",
            "[95, 53]\n",
            "['Andy', 'Angela']\n",
            "[58, 72]\n"
          ]
        }
      ]
    },
    {
      "cell_type": "markdown",
      "metadata": {
        "id": "segSpkmBFSJl"
      },
      "source": [
        "---\n",
        "### Exercise 5 - add field\n",
        "\n",
        "Write a function which will:\n",
        "\n",
        "*  create a new dictionary called **science_scores** with values of 0 for both Andy and Angela\n",
        "*  update Andy's score for science to 73 and Angela's score to 73   \n",
        "*  create a new key/value pair by adding another learner to the `science_scores`  dictionary (George has a score of 55)    \n",
        "*  print the `science_scores` dictionary to check results  \n",
        "\n",
        "Expected Output\n",
        "\n",
        "{'Andy': 73, 'Angela': 73, 'George': 55}"
      ]
    },
    {
      "cell_type": "code",
      "metadata": {
        "id": "BL1JM-Z7Gttf",
        "colab": {
          "base_uri": "https://localhost:8080/"
        },
        "outputId": "22cfbe7c-3de3-4914-d89d-2a6b0a0afff1"
      },
      "source": [
        "science_scores={                 # create a new dictionary called science_scores with values of 0 for both Andy and Angela\n",
        "    'Andy': 0,\n",
        "    'Angela': 0\n",
        "    }\n",
        "\n",
        " #update Andy's score for science to 73 and Angela's score to 73\n",
        "science_scores.update({'Andy':73,'Angela':73})\n",
        "print(science_scores)\n",
        "\n",
        "# create a new key/value pair by adding another learner to the science_scores dictionary (George has a score of 55)\n",
        "science_scores.update({'Andy':73, 'Angela':73, 'George':55})\n",
        "\n",
        "# print the science_scores dictionary to check results\n",
        "print(science_scores)"
      ],
      "execution_count": null,
      "outputs": [
        {
          "output_type": "stream",
          "name": "stdout",
          "text": [
            "{'Andy': 73, 'Angela': 73}\n",
            "{'Andy': 73, 'Angela': 73, 'George': 55}\n"
          ]
        }
      ]
    },
    {
      "cell_type": "markdown",
      "metadata": {
        "id": "_Vzv0zlHGt-C"
      },
      "source": [
        "---\n",
        "### Exercise 6 - loop through keys/value pairs\n",
        "\n",
        "Write a function which will use a *for* loop to print the each key/value pair in the science dictionary (recreate this dictionary in this function)\n",
        "\n",
        "*(Hint: you can iterate through the key/value pairs in the dictionary in the same way as you iterate through a loop (e.g. for record in dictionary) and print the record (which is the key) and its value)*\n",
        "\n",
        "Expected output:  \n",
        "\n",
        "Angela 72  \n",
        "Andy 72  \n",
        "George 55  "
      ]
    },
    {
      "cell_type": "code",
      "metadata": {
        "id": "JL40_-W-Hxnt",
        "colab": {
          "base_uri": "https://localhost:8080/"
        },
        "outputId": "af2e4404-c73e-4802-c9ce-6198deabf7e3"
      },
      "source": [
        "def print_science_dictionary():\n",
        "  science_dictionary={\n",
        "      \"Angela\":\"72\",\n",
        "      \"Andy\":\"72\",\n",
        "      \"George\":\"55\"\n",
        "  }\n",
        "\n",
        "  for name ,score in science_dictionary.items():\n",
        "\n",
        "   # print(name,score)                #  with this code see the next line -we can't remove the gap between the score and %( if we need to print % also or any other character like this), can check by removing # and run the code )\n",
        "\n",
        "    #print(name,\"score\",score,\"%\")    # with this code we can't remove the gap between the score and %( if we need to print % also or any other character like this), can check by removing # and run the code )\n",
        "\n",
        "   print(f\"{name} {score}\")            #or print(name,score) both are the same but the difference is only what I described.\n",
        "\n",
        "\n",
        "  #print(f\"{name} score {score}%\")    # with this code we can add % kind of characters with less space as per standard\n",
        "\n",
        "\n",
        "\n",
        "\n",
        "print_science_dictionary()"
      ],
      "execution_count": null,
      "outputs": [
        {
          "output_type": "stream",
          "name": "stdout",
          "text": [
            "Angela 72\n",
            "Andy 72\n",
            "George 55\n"
          ]
        }
      ]
    },
    {
      "cell_type": "markdown",
      "metadata": {
        "id": "G9wamxzRJdrE"
      },
      "source": [
        "---\n",
        "### Exercise 7 - generate new dictionary  \n",
        "\n",
        "Write a functions which will:\n",
        "*  create a new dictionary where the keys are numbers between 1 and 15 (both included) and the values are square of keys\n",
        "*  print the dictionary\n",
        "\n",
        "Expected output:  \n",
        "{1: 1, 2: 4, 3: 9, 4: 16, 5: 25, 6: 36, 7: 49, 8: 64, 9: 81, 10: 100, 11: 121, 12: 144, 13: 169, 14: 196, 15: 225}"
      ]
    },
    {
      "cell_type": "code",
      "metadata": {
        "id": "1-LI-LVrJ--N",
        "colab": {
          "base_uri": "https://localhost:8080/"
        },
        "outputId": "6e8e4f8d-de91-4325-8386-3c491ec2a459"
      },
      "source": [
        "def num_dictionary():\n",
        "  my_dict={1:1**2,2:2**2,3:3**2,4:4**2,5:5**2, 6:6**2, 7:7**2,8:8**2,9:9**2,10:10**2, 11:11**2,12:12**2, 13:13**2, 14:14**2, 15:15**2}\n",
        "\n",
        "  print(my_dict)\n",
        "\n",
        "num_dictionary()\n",
        "\n"
      ],
      "execution_count": null,
      "outputs": [
        {
          "output_type": "stream",
          "name": "stdout",
          "text": [
            "{1: 1, 2: 4, 3: 9, 4: 16, 5: 25, 6: 36, 7: 49, 8: 64, 9: 81, 10: 100, 11: 121, 12: 144, 13: 169, 14: 196, 15: 225}\n"
          ]
        }
      ]
    },
    {
      "cell_type": "markdown",
      "metadata": {
        "id": "t0y4mefwJ_jQ"
      },
      "source": [
        "---\n",
        "### Exercise 8 - colour dictionary  \n",
        "\n",
        "Write a function which will:  \n",
        "*  create a new dictionary record called colour_codes with the values 'red' - '#FF0000', 'green' - '#008000', 'black' - '#000000', 'white' - '#FFFFFF'\n",
        "*  add a new colour code:  'blue' - '#0000FF'    \n",
        "*  remove the colours black and white from the dictionary  \n",
        "\n",
        "*Hint:  there is a list of methods [here](https://www.w3schools.com/python/python_ref_dictionary.asp)*  "
      ]
    },
    {
      "cell_type": "code",
      "metadata": {
        "id": "yod1mUNOMeWg",
        "colab": {
          "base_uri": "https://localhost:8080/"
        },
        "outputId": "c7b56eee-dce0-4440-e407-4d4118f73239"
      },
      "source": [
        "colour_codes={\n",
        "    'red':'#FF0000',\n",
        "    'green':'#008000',\n",
        "    'black':'#000000',\n",
        "    'White':'FFFFFF'\n",
        "    }\n",
        "print(colour_codes)\n",
        "\n",
        "#add new item\n",
        "colour_codes['blue']='#0000FF'             #using add item\n",
        "print(colour_codes)\n",
        "\n",
        "#add new item using update() method\n",
        "colour_codes.update({'blue':'#0000FF'})      #using update() method\n",
        "print(colour_codes)\n",
        "\n",
        "#removing black and white colour from dictionary\n",
        "\n",
        "colour_codes.pop('black')              # can use del method also\n",
        "colour_codes.pop('White')\n",
        "print(colour_codes)\n"
      ],
      "execution_count": null,
      "outputs": [
        {
          "output_type": "stream",
          "name": "stdout",
          "text": [
            "{'red': '#FF0000', 'green': '#008000', 'black': '#000000', 'White': 'FFFFFF'}\n",
            "{'red': '#FF0000', 'green': '#008000', 'black': '#000000', 'White': 'FFFFFF', 'blue': '#0000FF'}\n",
            "{'red': '#FF0000', 'green': '#008000', 'black': '#000000', 'White': 'FFFFFF', 'blue': '#0000FF'}\n",
            "{'red': '#FF0000', 'green': '#008000', 'blue': '#0000FF'}\n"
          ]
        }
      ]
    },
    {
      "cell_type": "markdown",
      "metadata": {
        "id": "gjos_0vuMeyS"
      },
      "source": [
        "---\n",
        "### Exercise 9 - item tuples  \n",
        "\n",
        "Write a function which will:  \n",
        "*  create a new dictionary containing the colour codes for red, green, blue, black and white\n",
        "*  print the key/value pairs of a dictionary as a list of tuples  \n",
        "\n",
        "*Hint:  iterate through colours.items()*"
      ]
    },
    {
      "cell_type": "code",
      "metadata": {
        "id": "EzuMkUypOKTY",
        "colab": {
          "base_uri": "https://localhost:8080/"
        },
        "outputId": "7dcefd27-e1b6-4f9a-e9bc-0e7e7502eca9"
      },
      "source": [
        "my_dict={\n",
        "    'red':1,\n",
        "    'green':2,\n",
        "    'blue':3,\n",
        "    'black':4,\n",
        "    'white':5\n",
        "}\n",
        "print(my_dict)\n",
        "\n",
        "colour_tuples=list(my_dict.items())\n",
        "print(colour_tuples)"
      ],
      "execution_count": null,
      "outputs": [
        {
          "output_type": "stream",
          "name": "stdout",
          "text": [
            "{'red': 1, 'green': 2, 'blue': 3, 'black': 4, 'white': 5}\n",
            "[('red', 1), ('green', 2), ('blue', 3), ('black', 4), ('white', 5)]\n"
          ]
        }
      ]
    },
    {
      "cell_type": "markdown",
      "metadata": {
        "id": "Jw1ot10cOc6r"
      },
      "source": [
        "---\n",
        "### Exercise 10 - check if empty\n",
        "Taken from w3resouce.com  \n",
        "\n",
        "Write a function which will check if a dictionary is empty or not\n",
        "\n",
        "*Hint:  you can use bool(dictionary_name), if the dictionary is empty then bool(dictionary_name will be false)*\n",
        "\n",
        "Test 1 sample data:\n",
        "{}\n",
        "\n",
        "Expected output:\n",
        "Dictionary is empty  \n",
        "\n",
        "Test 2 sample data:  \n",
        "{\"name\":\"Groucho\", \"occupation\":\"comedian\"}\n",
        "\n",
        "Expected output:  \n",
        "Dictionary is not empty"
      ]
    },
    {
      "cell_type": "code",
      "metadata": {
        "id": "7UdM1TfwRqnt",
        "colab": {
          "base_uri": "https://localhost:8080/"
        },
        "outputId": "e33fa621-5355-4289-8588-22a09d139f31"
      },
      "source": [
        "def check_dictionary(my_dict):\n",
        " if bool(my_dict):\n",
        "  print(\"Dictionary is not empty.\")\n",
        " else:\n",
        "    print(\"Dictionary is empty\")\n",
        "\n",
        "\n",
        "full_dict={\n",
        "       'name':'Groucho',\n",
        "        'occupation':'comedian'\n",
        "        }\n",
        "\n",
        "\n",
        "check_dictionary({})             #the code will run according to calling the programme\n",
        "check_dictionary(full_dict)\n",
        "check_dictionary({})\n",
        "\n"
      ],
      "execution_count": null,
      "outputs": [
        {
          "output_type": "stream",
          "name": "stdout",
          "text": [
            "Dictionary is empty\n",
            "Dictionary is not empty.\n",
            "Dictionary is empty\n"
          ]
        }
      ]
    }
  ]
}