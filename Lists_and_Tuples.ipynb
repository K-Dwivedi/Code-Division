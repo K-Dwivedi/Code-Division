{
  "nbformat": 4,
  "nbformat_minor": 0,
  "metadata": {
    "colab": {
      "provenance": [],
      "toc_visible": true,
      "include_colab_link": true
    },
    "kernelspec": {
      "name": "python3",
      "display_name": "Python 3"
    },
    "language_info": {
      "name": "python"
    }
  },
  "cells": [
    {
      "cell_type": "markdown",
      "metadata": {
        "id": "view-in-github",
        "colab_type": "text"
      },
      "source": [
        "<a href=\"https://colab.research.google.com/github/K-Dwivedi/Code-Division--Python-worksheets/blob/main/Lists_and_Tuples.ipynb\" target=\"_parent\"><img src=\"https://colab.research.google.com/assets/colab-badge.svg\" alt=\"Open In Colab\"/></a>"
      ]
    },
    {
      "cell_type": "markdown",
      "metadata": {
        "id": "Z-M-RCWATK71"
      },
      "source": [
        "# Lists and tuples\n",
        "\n",
        "Often we need to store a number of single items of data together so that they can be processed together. This might be because all the data refers to one person (e.g. name, age, gender, etc) OR it might be because we have a set of data (e.g. all the items that should be displayed in a drop down list, such as all the years from this year back to 100 years ago so that someone can select their year of birth)\n",
        "\n",
        "Python has a range of data structures available including:\n",
        "*   lists  \n",
        "*   tuples  \n",
        "*   dictionaries  \n",
        "*   sets\n",
        "\n",
        "This worksheet looks at lists and tuples.\n",
        "\n",
        "## List\n",
        "A list is a set of related, individual data objects, that are indexed and can be processed as a whole, as subsets or as individual items.  Lists are stored, essentially, as contiguous items in memory so that access can be as quick as possible.  However, they are mutable (they can be changed after they are created and stored) and so those mechanisms need to include extra functionality to deal with changing list sizes.\n",
        "\n",
        "## Tuple\n",
        "Essentially the same as a list but it is immutable.  Once it has been created it can't be changed.  It is stored in memory as contiguous items, with the size required being fixed right from the start.  This makes it faster to access.\n",
        "\n",
        "The code below will create two lists and a tuple.\n",
        "*   the first list contains 1000 random numbers between 1 and 100\n",
        "*   the second list is of random length (up to 5000) and each item is one of the 9 characteristics that are protected under the Equality Act in the UK.\n",
        "*   the tuple contains the 9 protected characteristics\n",
        "\n",
        "Before you start the exercises, run the code below.  It will generate the lists and tuple so that you can use them in the exercises.  If you need to recreate the lists again (because you have changed them and need to work on the originals, just run this cell again).\n",
        "\n",
        "***Note:***  *a list variable contains a reference to the start of the list in memory, rather than storing the list itself.  This means that if you assign the list to another variable (to make a copy), it will only copy across the reference.  If you change the copy, you change the original list.*\n",
        "\n",
        "*If you need to make a copy of the list you will need to use a loop to create a new list and copy all items across.*"
      ]
    },
    {
      "cell_type": "code",
      "metadata": {
        "id": "BDRckXeQXFMT"
      },
      "source": [
        "from random import randint, choice\n",
        "\n",
        "def get_num_list():\n",
        "  num_list = [randint(1,100) for n in range(1000)]\n",
        "  return num_list\n",
        "\n",
        "def get_protected_characteristics():\n",
        "  characteristics_tuple = ('age','disability','gender reassignment','marriage and civil partnership','pregnancy and maternity','race','religion or belief','sex','sexual orientation')\n",
        "  return characteristics_tuple\n",
        "\n",
        "def get_protected_characteristic_list(protected_characteristics):\n",
        "  char_list = [choice(protected_characteristics) for ch in range(randint(1,5000))]\n",
        "  return char_list\n",
        "\n",
        "nums = get_num_list()\n",
        "protected_characteristics = get_protected_characteristics()\n",
        "characteristics = get_protected_characteristic_list(protected_characteristics)"
      ],
      "execution_count": 53,
      "outputs": []
    },
    {
      "cell_type": "markdown",
      "metadata": {
        "id": "xXT38-4ZV45n"
      },
      "source": [
        "## The exercises below will use the lists:  \n",
        "*   **nums** (a list of between 1 and 1000 random numbers, each number is between 0 and 1000)\n",
        "*   **characteristics** (a list of 5000 random protected_characteristics)\n",
        "\n",
        "and the tuple:\n",
        "*  **protected_characteristics** (a set of the 9 protected characteristics identified in the Equality Act)\n",
        "\n",
        "## You can run the cell above any number of times to generate new lists."
      ]
    },
    {
      "cell_type": "markdown",
      "metadata": {
        "id": "Ft0dXl7fUuaK"
      },
      "source": [
        "---\n",
        "### Exercise 1 - list head, tail and shape\n",
        "\n",
        "Write a function, **describe_list()** which will:\n",
        "*  print the length of the list `nums`\n",
        "*  print the first 10 items in `nums`  \n",
        "*  print the last 5 items in `nums`"
      ]
    },
    {
      "cell_type": "code",
      "metadata": {
        "id": "jUcZD7mmTJdA",
        "outputId": "b3e039e5-2c69-40c8-fcd8-9aac875160a7",
        "colab": {
          "base_uri": "https://localhost:8080/"
        }
      },
      "source": [
        "def describe_list(nums):\n",
        "\n",
        "\n",
        "#print the length of the list nums\n",
        "  length_of_the_list=len(nums)\n",
        "print(len(nums))\n",
        "\n",
        "\n",
        "#print the first 10 items in nums\n",
        "first_10_items=nums[:10]\n",
        "print(first_10_items)\n",
        "\n",
        "\n",
        "#print the last 5 items in nums\n",
        "last_5_items=nums[-5:]\n",
        "print(last_5_items)\n",
        "\n",
        "describe_list(nums)"
      ],
      "execution_count": 83,
      "outputs": [
        {
          "output_type": "stream",
          "name": "stdout",
          "text": [
            "1000\n",
            "[53, 1, 15, 100, 74, 97, 81, 15, 70, 1]\n",
            "[36, 63, 86, 21, 6]\n"
          ]
        }
      ]
    },
    {
      "cell_type": "markdown",
      "metadata": {
        "id": "yNWg08k6bXv0"
      },
      "source": [
        "---\n",
        "### Exercise 2 - show tuple items\n",
        "\n",
        "Write a function which will:\n",
        "*   use a loop to print the list of protected characteristics from the `protected_characteristics` tuple.\n"
      ]
    },
    {
      "cell_type": "code",
      "metadata": {
        "id": "P2HnCG9pb1BS",
        "colab": {
          "base_uri": "https://localhost:8080/"
        },
        "outputId": "288a46d8-0647-4a6e-8a23-b07113ca2cad"
      },
      "source": [
        "def tuple_items():\n",
        "\n",
        "\n",
        "# use a loop to print the list of protected characteristics from the protected_characteristics tuple\n",
        "\n",
        " list_of_tuple=(protected_characteristics)\n",
        " for tuple_items in list_of_tuple:\n",
        "  print(tuple_items,\",\", end=\" \")\n",
        " print()\n",
        "\n",
        "tuple_items()"
      ],
      "execution_count": 82,
      "outputs": [
        {
          "output_type": "stream",
          "name": "stdout",
          "text": [
            "age , disability , gender reassignment , marriage and civil partnership , pregnancy and maternity , race , religion or belief , sex , sexual orientation , \n"
          ]
        }
      ]
    },
    {
      "cell_type": "markdown",
      "metadata": {
        "id": "RTSuQZs4b1JU"
      },
      "source": [
        "---\n",
        "### Exercise 3 - list a random subset\n",
        "\n",
        "Write a function which will:\n",
        "*  calculate the position of the middle item in the `characteristics` list   \n",
        "(*Hint: use len() to help with this*)\n",
        "*  calculate the position of the item that is 5 places before the middle item\n",
        "*  calculate the position of the item that is 5 places after the middle item\n",
        "*  print the part of the list that includes the items from 5 places before to 5 places after.  \n",
        "\n",
        "Expected output:  \n",
        "Your list will include 11 items."
      ]
    },
    {
      "cell_type": "code",
      "metadata": {
        "id": "OwhFnH2kdC11",
        "colab": {
          "base_uri": "https://localhost:8080/"
        },
        "outputId": "31113b02-946e-4de2-c730-e675323f63d7"
      },
      "source": [
        "def random_subset():\n",
        "\n",
        "\n",
        "#1- calculating the position of the middle item in the characteristics list\n",
        "\n",
        " my_list=len(characteristics)\n",
        " middle_item=my_list//2\n",
        " print(middle_item)\n",
        "\n",
        "#2-calculating the position of the item that is 5 places before the middle item\n",
        " before_middle=middle_item-5\n",
        " print(before_middle)\n",
        "\n",
        "#3-calculating the position of the item that is 5 places after the middle item\n",
        " after_middle=middle_item+5\n",
        " print(after_middle)\n",
        "\n",
        "\n",
        "#4-to print the part of the list that includes the items from 5 places before to 5 places after.\n",
        " new_list=characteristics[before_middle:after_middle+1]\n",
        " print(new_list)\n",
        "\n",
        "\n",
        "random_subset()\n"
      ],
      "execution_count": 81,
      "outputs": [
        {
          "output_type": "stream",
          "name": "stdout",
          "text": [
            "2477\n",
            "2472\n",
            "2482\n",
            "['sex', 'religion or belief', 'race', 'race', 'gender reassignment', 'sexual orientation', 'age', 'religion or belief', 'religion or belief', 'sexual orientation', 'race']\n"
          ]
        }
      ]
    },
    {
      "cell_type": "markdown",
      "metadata": {
        "id": "KS0x3oFNePI9"
      },
      "source": [
        "---\n",
        "### Exercise 4 - create a copy\n",
        "\n",
        "Write a function which will: use a for loop to create a copy of the `nums` list:\n",
        "\n",
        "*   create a new, empty, list called **new_nums**  (*Hint: an empty list is [ ]*)\n",
        "*   use a for loop which uses the following syntax:  `for num in nums:`\n",
        "*   each time round the loop append `num` to `new_nums`  ( *`new_nums.append(num)`*)\n",
        "*   print the first 10 items of `new_nums`\n",
        "*   print the first 10 items of `nums`\n",
        "*   print the length of both lists"
      ]
    },
    {
      "cell_type": "code",
      "metadata": {
        "id": "mpK1Ip3we-uC",
        "colab": {
          "base_uri": "https://localhost:8080/"
        },
        "outputId": "12b7990d-b99e-4581-89d1-32f0e3025b83"
      },
      "source": [
        "def create_a_copy():\n",
        "\n",
        "\n",
        " # creating a new, empty, list called new_nums\n",
        " new_nums=[]\n",
        " print(new_nums)\n",
        "\n",
        "\n",
        " # use a for loop which uses the following syntax: for num in nums:\n",
        " for num in nums:\n",
        "\n",
        "  # each time round the loop append num to new_nums\n",
        "  new_nums.append(num)\n",
        "\n",
        "\n",
        " # print the first 10 items of new_nums\n",
        " print(new_nums[:10])\n",
        "\n",
        " # print the first 10 items of nums\n",
        " print(nums[:10])\n",
        "\n",
        "\n",
        " #print the length of both lists\n",
        "\n",
        " new_nums_len=len(new_nums)\n",
        " print(new_nums_len)\n",
        "\n",
        " nums_len=len(nums)\n",
        " print(nums_len)\n",
        "\n",
        "create_a_copy()\n"
      ],
      "execution_count": 80,
      "outputs": [
        {
          "output_type": "stream",
          "name": "stdout",
          "text": [
            "[]\n",
            "[53, 1, 15, 100, 74, 97, 81, 15, 70, 1]\n",
            "[53, 1, 15, 100, 74, 97, 81, 15, 70, 1]\n",
            "1000\n",
            "1000\n"
          ]
        }
      ]
    },
    {
      "cell_type": "markdown",
      "metadata": {
        "id": "deUIFWjRe-3G"
      },
      "source": [
        "\n",
        "\n",
        "```\n",
        "# This is formatted as code\n",
        "```\n",
        "\n",
        "---\n",
        "### Exercise 5 - count the occurrence of age in characteristics\n",
        "\n",
        "Write a function which will use the list method:\n",
        "\n",
        "`num_items = list_name.count(item)`\n",
        "\n",
        "to count the number of occurrences of 'age' in the `characteristics` list.  Print the result."
      ]
    },
    {
      "cell_type": "code",
      "metadata": {
        "id": "b9TrHQ9hfoIU",
        "outputId": "218d03e9-1881-4def-fe8d-8f2dda01f01a",
        "colab": {
          "base_uri": "https://localhost:8080/"
        }
      },
      "source": [
        "def occurrence_of_age():\n",
        "\n",
        "# to count the number of occurrences of 'age' in the characteristics list\n",
        "\n",
        " num_items=characteristics.count('age')\n",
        " print(num_items)\n",
        "\n",
        "occurrence_of_age()"
      ],
      "execution_count": 78,
      "outputs": [
        {
          "output_type": "stream",
          "name": "stdout",
          "text": [
            "571\n"
          ]
        }
      ]
    },
    {
      "cell_type": "markdown",
      "metadata": {
        "id": "zm2VI5RmfoSy"
      },
      "source": [
        "---\n",
        "### Exercise 6 - sort the nums list\n",
        "\n",
        "Write a function which will:\n",
        "*   call the function `get_num_list()` and store the result in a new list called **sort_nums**\n",
        "*   print the first, and last, 20 items in the `sort_nums` list\n",
        "*   use the `list_name.sort()` method to sort the `sort_nums` list into ascending order\n",
        "*   print the first, and last, 20 items again  \n",
        "*   use the `list_name.sort()` method again to sort the `sort_nums` list into descending order\n",
        "*   print the first, and last, 20 items again"
      ]
    },
    {
      "cell_type": "code",
      "metadata": {
        "id": "Fksgpj9JgWDs",
        "colab": {
          "base_uri": "https://localhost:8080/"
        },
        "outputId": "fc2d0ac1-b0b8-4c99-bc3e-f9d4fc1a6326"
      },
      "source": [
        "def  get_num_list():\n",
        "\n",
        " #1- called the function get_num_list() and storing the result in a new list called sort_nums\n",
        "  sort_nums=nums\n",
        "\n",
        "  # to print the first, and last, 20 items in the sort_nums list\n",
        "  first_20=sort_nums[:20]\n",
        "  print(first_20)\n",
        "\n",
        "  last_20=sort_nums[-20:]\n",
        "  print(last_20)\n",
        "\n",
        "\n",
        "  #2- to sort the sort_nums list into ascending order\n",
        "  sort_nums.sort()\n",
        "\n",
        "  # to print the first, and last, 20 items again\n",
        "  first_20=sort_nums[:20]\n",
        "  print(first_20)\n",
        "\n",
        "  last_20=sort_nums[-20:]\n",
        "  print(last_20)\n",
        "\n",
        "\n",
        "  #3- using the list_name.sort() method again to sort the sort_nums list into descending order\n",
        "\n",
        "\n",
        "  sort_nums.sort(reverse=True)\n",
        "  #print(sort_nums)      # I don't need to print reversed sort_nums for now that's why I put a #\n",
        "\n",
        "\n",
        "\n",
        "  # print the first, and last, 20 items again\n",
        "\n",
        "  first_20=sort_nums[:20]\n",
        "  print(first_20)\n",
        "\n",
        "  last_20=sort_nums[-20:]\n",
        "  print(last_20)\n",
        "\n",
        "\n",
        "get_num_list()"
      ],
      "execution_count": 48,
      "outputs": [
        {
          "output_type": "stream",
          "name": "stdout",
          "text": [
            "[51, 83, 9, 84, 29, 75, 49, 98, 80, 77, 53, 59, 3, 30, 70, 83, 63, 23, 68, 1]\n",
            "[39, 30, 92, 30, 50, 46, 13, 26, 5, 98, 24, 62, 97, 95, 89, 97, 34, 31, 82, 58]\n",
            "[1, 1, 1, 1, 1, 1, 1, 2, 2, 2, 2, 2, 2, 2, 2, 3, 3, 3, 3, 3]\n",
            "[99, 99, 99, 99, 99, 99, 99, 99, 99, 99, 99, 99, 99, 99, 99, 100, 100, 100, 100, 100]\n",
            "[100, 100, 100, 100, 100, 99, 99, 99, 99, 99, 99, 99, 99, 99, 99, 99, 99, 99, 99, 99]\n",
            "[3, 3, 3, 3, 3, 2, 2, 2, 2, 2, 2, 2, 2, 1, 1, 1, 1, 1, 1, 1]\n"
          ]
        }
      ]
    },
    {
      "cell_type": "markdown",
      "metadata": {
        "id": "_OF-Xuj1UrW0"
      },
      "source": [
        "---\n",
        "### Exercise 7 - get statistics (max(), min(), sum() )\n",
        "\n",
        "Write a function which will:\n",
        "*   print the maximum and minimum numbers in the `nums` list  \n",
        "*   print the sum of the `nums` list\n",
        "*   calculate and print the average of the `nums` list (using `len()` to help)"
      ]
    },
    {
      "cell_type": "code",
      "metadata": {
        "id": "9YmYMenZVGod",
        "colab": {
          "base_uri": "https://localhost:8080/"
        },
        "outputId": "1c47980e-0e57-4a54-c0c8-77bda7a6f8e7"
      },
      "source": [
        "def get_statistics(max,min,sum):\n",
        "\n",
        "\n",
        "\n",
        "#1-to print the maximum numbers in the nums list\n",
        "\n",
        " max_list=max(nums)\n",
        " print(max_list)\n",
        "\n",
        "\n",
        "#2-to print the minimum numbers in the nums list\n",
        "\n",
        " min_list=min(nums)\n",
        " print(min_list)\n",
        "\n",
        "\n",
        "#3-to calculate and print the average of the nums list\n",
        "\n",
        " list_sum=sum(nums)\n",
        " average=list_sum/len(nums)\n",
        " print(average)\n",
        "\n",
        "\n",
        "get_statistics(max,min,sum)"
      ],
      "execution_count": 73,
      "outputs": [
        {
          "output_type": "stream",
          "name": "stdout",
          "text": [
            "100\n",
            "1\n",
            "50.194\n"
          ]
        }
      ]
    },
    {
      "cell_type": "markdown",
      "metadata": {
        "id": "Mn4tHQ_KVbHa"
      },
      "source": [
        "---\n",
        "### Exercise 8 - percentage difference\n",
        "\n",
        "Write a function which will:\n",
        "*   generate a new list called **ex8_nums** using `get_num_list()`\n",
        "*   calculate and print the percentage difference between the first number in each list (as a percentage of the number in the nums list) (Hint:  find the difference between the two numbers, divide the difference by the number in `nums` and multiply by 100)\n",
        "*   calculate and print the percentage difference between the last numbers in each list in the same way\n",
        "*   calculate and print the percentage difference between the middle numbers in each list in the same way.\n",
        "*   calculate and print the percentage difference between the sums of each list in the same way"
      ]
    },
    {
      "cell_type": "code",
      "metadata": {
        "id": "nJCQjZIeZL0e",
        "colab": {
          "base_uri": "https://localhost:8080/"
        },
        "outputId": "799f5afa-db73-4754-c734-4c544ea95424"
      },
      "source": [
        "def percentage_difference():\n",
        "\n",
        "  ex8_nums=get_num_list()\n",
        "\n",
        "\n",
        "\n",
        "  # percentage difference between the first number in each list\n",
        "\n",
        "  num1=nums[0]                   # 0 index for the first value\n",
        "  num2=ex8_nums[0]\n",
        "  difference=(num2-num1)         # if we put abs( absolute value) before num2-num1 then we will get the value in positive number not in negative.\n",
        "  percentage=(difference/num1)*100\n",
        "\n",
        "  print(num1)\n",
        "  print(num2)\n",
        "  print(difference)\n",
        "  print(str(percentage)+\"%\")\n",
        "\n",
        "\n",
        "\n",
        " #percentage difference between the last number in each list\n",
        "\n",
        "  num1=nums[-1]                   # -1 for last number in the index\n",
        "  num2=ex8_nums[-1]\n",
        "  difference=(num2-num1)            # if we put abs( absolute value) before num2-num1 then we will get the value in positive number not in negative.\n",
        "  percentage=(difference/num1)*100\n",
        "\n",
        "  print(num1)\n",
        "  print(num2)\n",
        "  print(difference)\n",
        "  print(str(percentage)+\"%\")\n",
        "\n",
        "\n",
        "\n",
        "\n",
        " #percentage difference between the middle number in each list\n",
        "\n",
        "  middle_index=len(nums)//2\n",
        "  num1=nums[middle_index]\n",
        "\n",
        "  num2=ex8_nums[middle_index]\n",
        "  difference=num2-num1          # if we put abs( absolute value) before num2-num1 then we will get the value in positive number not in negative.\n",
        "  percentage=(difference/num1)*100\n",
        "\n",
        "  print(num1)\n",
        "  print(num2)\n",
        "  print(difference)\n",
        "  print(str(percentage)+\"%\")\n",
        "\n",
        "\n",
        "\n",
        " #percentage difference between the sum of each list\n",
        "\n",
        "  sum1=sum(nums)           # using sum function to get sum\n",
        "  sum2=sum(ex8_nums)\n",
        "  difference=sum2-sum1\n",
        "  percentage=(difference/num1)*100\n",
        "\n",
        "\n",
        "  print(num1)\n",
        "  print(num2)\n",
        "  print(difference)\n",
        "  print(str(percentage)+\"%\")\n",
        "\n",
        "percentage_difference()\n",
        "\n",
        "\n"
      ],
      "execution_count": 54,
      "outputs": [
        {
          "output_type": "stream",
          "name": "stdout",
          "text": [
            "53\n",
            "75\n",
            "22\n",
            "41.509433962264154%\n",
            "6\n",
            "20\n",
            "14\n",
            "233.33333333333334%\n",
            "12\n",
            "52\n",
            "40\n",
            "333.33333333333337%\n",
            "12\n",
            "52\n",
            "2264\n",
            "18866.666666666664%\n"
          ]
        }
      ]
    },
    {
      "cell_type": "markdown",
      "metadata": {
        "id": "HNs3lZmYawFO"
      },
      "source": [
        "---\n",
        "### Exercise 9 - characteristic counts\n",
        "\n",
        "Write a function which will:\n",
        "*  iterate through the `protected_characteristics` tuple and for each **characteristic**:\n",
        "*   *   count the number of occurrences of that `characteristic` in the `characteristics` list\n",
        "*   *   print the `protected_characteristic` and the **count**  \n",
        "\n",
        "Example expected output:\n",
        "\n",
        "age 100  \n",
        "disability 120  \n",
        "gender reassignment 120  \n",
        "marriage and civil partnership 111  \n",
        "pregnancy and maternity 103  \n",
        "race 106  \n",
        "religion or belief 95  \n",
        "sex 110  \n",
        "sexual orientation 113  \n",
        "\n",
        "Extra learning:  you can read [here](https://thispointer.com/python-how-to-pad-strings-with-zero-space-or-some-other-character/) how to justify the printed characteristic so that the output is organised into two columns as shown below:  \n",
        "![tabulated output](https://drive.google.com/uc?id=1CCXfX6K5ZeDefnq7vUsqxCDmqvcfY8Mz)\n",
        "\n",
        "\n",
        "\n"
      ]
    },
    {
      "cell_type": "code",
      "metadata": {
        "id": "GURT11albqUs",
        "colab": {
          "base_uri": "https://localhost:8080/"
        },
        "outputId": "56575690-f2e3-4f6b-a780-ca8e08eb8cd0"
      },
      "source": [
        "\n",
        "\n",
        "def characteristic_counts():\n",
        "\n",
        " for characteristic in protected_characteristics:\n",
        "    # to count the number of occurrences of that characteristic in the characteristics list\n",
        "\n",
        "    count=characteristics.count(characteristic)\n",
        "\n",
        "    # to print the protected_characteristic and the count\n",
        "    print(characteristic, count)\n",
        "\n",
        "\n",
        "\n",
        "characteristic_counts()"
      ],
      "execution_count": 72,
      "outputs": [
        {
          "output_type": "stream",
          "name": "stdout",
          "text": [
            "age 571\n",
            "disability 536\n",
            "gender reassignment 538\n",
            "marriage and civil partnership 524\n",
            "pregnancy and maternity 519\n",
            "race 560\n",
            "religion or belief 544\n",
            "sex 587\n",
            "sexual orientation 575\n"
          ]
        }
      ]
    },
    {
      "cell_type": "markdown",
      "metadata": {
        "id": "9Po7yQj-ds38"
      },
      "source": [
        "---\n",
        "### Exercise 10 - characteristics statistics\n",
        "\n",
        "Assuming that the `characteristics` list may have been taken from a study of cases that have been taken to court in relation to the Equality Act.  \n",
        "\n",
        "Write a function which will:\n",
        "\n",
        "*   find the most common characteristic resulting in court action, from this population\n",
        "*   print this in a message, e.g. The characteristic with the highest number of court cases is:  *characteristic*\n",
        "*   print the list of `protected_characteristics`, on one line if possible - see [here](https://www.geeksforgeeks.org/g-fact-25-print-single-multiple-variable-python/)\n",
        "*   ask the user to enter a characteristic that they would like to see statistics on and use a while loop to continue until the user has entered a valid characteristic\n",
        "*   print the characteristic, its frequency and the percentage that this frequency is of the whole population."
      ]
    },
    {
      "cell_type": "code",
      "metadata": {
        "id": "uk_I5z7UgbDs",
        "colab": {
          "base_uri": "https://localhost:8080/"
        },
        "outputId": "1eeeccce-8815-4aa9-b032-082ac6261e90"
      },
      "source": [
        "def most_common_characteristics(characteristics):\n",
        "\n",
        "  #find the most common characteristic resulting in court action, from this population\n",
        "\n",
        "  most_common_characteristics=max(characteristics, key=characteristics.count)\n",
        "  print(most_common_characteristics)\n",
        "\n",
        "  print(\"The characteristics with the higher number of court cases is:\",most_common_characteristics )\n",
        "\n",
        "  print(protected_characteristics, end =\"\")\n",
        "\n",
        "  # ask for user input\n",
        "  user_input=input(\"Enter a characteristics: \")\n",
        "\n",
        "  # use a while loop to check if the user input is valid or not\n",
        "\n",
        "  while user_input not in protected_characteristics:\n",
        "    print(\"Invalid characteristics. Please enter one of the following: \")  # print error message if user input is not a valid characteristics\n",
        "    print(protected_characteristics, end =\"\")\n",
        "\n",
        "  user_input=input(\"Enter a characteristics: \")\n",
        "\n",
        "  #print the characteristic, its frequency and the percentage that this frequency is of the whole population.\n",
        "\n",
        "  frequency=characteristics.count(user_input)\n",
        "\n",
        "  percentage=(frequency/len(characteristics))*100\n",
        "\n",
        "  print(\"The characteristics\",{user_input},\"has\",{frequency},\"court cases.\")\n",
        "  print(\"This is \", {percentage},\"% of the whole population.\")\n",
        "\n",
        "\n",
        "\n",
        "most_common_characteristics(characteristics)"
      ],
      "execution_count": 71,
      "outputs": [
        {
          "output_type": "stream",
          "name": "stdout",
          "text": [
            "sex\n",
            "The characteristics with the higher number of court cases is: sex\n",
            "('age', 'disability', 'gender reassignment', 'marriage and civil partnership', 'pregnancy and maternity', 'race', 'religion or belief', 'sex', 'sexual orientation')Enter a characteristics: age\n",
            "Enter a characteristics: age\n",
            "The characteristics {'age'} has {571} court cases\n",
            "This is  {11.526039563988697} % of the whole population.\n"
          ]
        }
      ]
    }
  ]
}